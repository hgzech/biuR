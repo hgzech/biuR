{
 "cells": [
  {
   "cell_type": "markdown",
   "id": "585553f3-5311-401c-8651-064772e55aa8",
   "metadata": {},
   "source": [
    "# Test the extracted BIU R wrapper"
   ]
  },
  {
   "cell_type": "code",
   "execution_count": 1,
   "id": "e52a91f9-0457-4bda-9986-ae06254698e8",
   "metadata": {},
   "outputs": [],
   "source": [
    "import biur\n",
    "import matplotlib.pylab as plt\n",
    "import pandas as pd"
   ]
  },
  {
   "cell_type": "code",
   "execution_count": 2,
   "id": "e19ba8b6-68b7-4a49-aa72-a095cd2ee571",
   "metadata": {},
   "outputs": [],
   "source": [
    "R = biur.R()"
   ]
  },
  {
   "cell_type": "markdown",
   "id": "b0ddc02a-74fe-43e5-aa73-d72e44e1d676",
   "metadata": {},
   "source": [
    "## Push some data"
   ]
  },
  {
   "cell_type": "code",
   "execution_count": 3,
   "id": "c05628eb-ad60-4c73-9bba-9008b385086d",
   "metadata": {},
   "outputs": [],
   "source": [
    "R.push(n=5000, mean=10, var=6, question=\"How many apples do you eat per day?\")"
   ]
  },
  {
   "cell_type": "markdown",
   "id": "9233368f-3853-4f7b-bc70-51e74a1650b7",
   "metadata": {},
   "source": [
    "## Run some commands"
   ]
  },
  {
   "cell_type": "code",
   "execution_count": 4,
   "id": "1f0f9ba9-8874-4338-9572-49b327d05586",
   "metadata": {},
   "outputs": [
    {
     "name": "stdout",
     "output_type": "stream",
     "text": [
      "[1] 10.02596\n"
     ]
    }
   ],
   "source": [
    "R(\"\"\"\n",
    "    dist <- rnorm(n, mean, var)\n",
    "    print(mean(dist))\n",
    "\"\"\", get=False)"
   ]
  },
  {
   "cell_type": "markdown",
   "id": "fdf0c5ff-1949-47d5-a6dd-2398a1ed8dcb",
   "metadata": {},
   "source": [
    "## Get some data"
   ]
  },
  {
   "cell_type": "code",
   "execution_count": 5,
   "id": "5c67f76a-9c03-4dd9-88ca-6cec4984d230",
   "metadata": {},
   "outputs": [
    {
     "data": {
      "image/png": "[encoded data removed]",
      "text/plain": [
       "<Figure size 432x288 with 1 Axes>"
      ]
     },
     "metadata": {
      "needs_background": "light"
     },
     "output_type": "display_data"
    }
   ],
   "source": [
    "dist = R.get(\"dist\")\n",
    "dist_alt = R(\"dist\", get=True) # the get parameter is True by default\n",
    "_ = plt.hist(dist, bins=50)"
   ]
  },
  {
   "cell_type": "markdown",
   "id": "e73af784-bb33-4ba5-a193-ba37645c5336",
   "metadata": {},
   "source": [
    "## Do it all at the same time"
   ]
  },
  {
   "cell_type": "code",
   "execution_count": 6,
   "id": "27e3f541-52a5-4fe9-9508-6f6af72669a9",
   "metadata": {},
   "outputs": [
    {
     "data": {
      "image/png": "[encoded data removed]",
      "text/plain": [
       "<Figure size 432x288 with 1 Axes>"
      ]
     },
     "metadata": {
      "needs_background": "light"
     },
     "output_type": "display_data"
    }
   ],
   "source": [
    "dist = R(\"\"\"rnorm(n, mean, var)\"\"\",\n",
    "         push=dict(n=5000, mean=10, var=6, question=\"How many apples do you eat per day?\"))\n",
    "_ = plt.hist(dist, bins=50)"
   ]
  },
  {
   "cell_type": "markdown",
   "id": "e16f6bcf-2e02-4f87-959d-09a784e3dd66",
   "metadata": {},
   "source": [
    "## Dataframes also work as expected"
   ]
  },
  {
   "cell_type": "code",
   "execution_count": 7,
   "id": "9feab63b-b1b2-46cc-9344-abc560c874d3",
   "metadata": {},
   "outputs": [
    {
     "data": {
      "text/html": [
       "<div>\n",
       "<style scoped>\n",
       "    .dataframe tbody tr th:only-of-type {\n",
       "        vertical-align: middle;\n",
       "    }\n",
       "\n",
       "    .dataframe tbody tr th {\n",
       "        vertical-align: top;\n",
       "    }\n",
       "\n",
       "    .dataframe thead th {\n",
       "        text-align: right;\n",
       "    }\n",
       "</style>\n",
       "<table border=\"1\" class=\"dataframe\">\n",
       "  <thead>\n",
       "    <tr style=\"text-align: right;\">\n",
       "      <th></th>\n",
       "      <th>C1</th>\n",
       "      <th>C2</th>\n",
       "      <th>C3</th>\n",
       "      <th>C4</th>\n",
       "      <th>C5</th>\n",
       "      <th>C6</th>\n",
       "      <th>C7</th>\n",
       "      <th>C8</th>\n",
       "      <th>C9</th>\n",
       "      <th>C10</th>\n",
       "    </tr>\n",
       "  </thead>\n",
       "  <tbody>\n",
       "    <tr>\n",
       "      <th>count</th>\n",
       "      <td>500.000000</td>\n",
       "      <td>500.000000</td>\n",
       "      <td>500.000000</td>\n",
       "      <td>500.000000</td>\n",
       "      <td>500.000000</td>\n",
       "      <td>500.000000</td>\n",
       "      <td>500.000000</td>\n",
       "      <td>500.000000</td>\n",
       "      <td>500.000000</td>\n",
       "      <td>500.000000</td>\n",
       "    </tr>\n",
       "    <tr>\n",
       "      <th>mean</th>\n",
       "      <td>19.483522</td>\n",
       "      <td>20.526126</td>\n",
       "      <td>20.795463</td>\n",
       "      <td>19.830822</td>\n",
       "      <td>19.966503</td>\n",
       "      <td>21.357578</td>\n",
       "      <td>19.955829</td>\n",
       "      <td>19.687476</td>\n",
       "      <td>19.659160</td>\n",
       "      <td>19.973759</td>\n",
       "    </tr>\n",
       "    <tr>\n",
       "      <th>std</th>\n",
       "      <td>12.335198</td>\n",
       "      <td>11.628605</td>\n",
       "      <td>12.231484</td>\n",
       "      <td>11.886862</td>\n",
       "      <td>11.419686</td>\n",
       "      <td>11.657351</td>\n",
       "      <td>11.500650</td>\n",
       "      <td>11.501253</td>\n",
       "      <td>12.668158</td>\n",
       "      <td>12.182259</td>\n",
       "    </tr>\n",
       "    <tr>\n",
       "      <th>min</th>\n",
       "      <td>-23.604096</td>\n",
       "      <td>-19.317664</td>\n",
       "      <td>-13.852837</td>\n",
       "      <td>-18.492268</td>\n",
       "      <td>-14.829335</td>\n",
       "      <td>-26.297393</td>\n",
       "      <td>-10.214214</td>\n",
       "      <td>-16.114489</td>\n",
       "      <td>-26.525327</td>\n",
       "      <td>-12.705910</td>\n",
       "    </tr>\n",
       "    <tr>\n",
       "      <th>25%</th>\n",
       "      <td>10.769325</td>\n",
       "      <td>13.167645</td>\n",
       "      <td>12.920961</td>\n",
       "      <td>12.197403</td>\n",
       "      <td>12.409445</td>\n",
       "      <td>14.051357</td>\n",
       "      <td>12.018763</td>\n",
       "      <td>11.624662</td>\n",
       "      <td>11.547831</td>\n",
       "      <td>11.355280</td>\n",
       "    </tr>\n",
       "    <tr>\n",
       "      <th>50%</th>\n",
       "      <td>19.751316</td>\n",
       "      <td>20.304215</td>\n",
       "      <td>20.499023</td>\n",
       "      <td>19.934705</td>\n",
       "      <td>19.236623</td>\n",
       "      <td>21.403425</td>\n",
       "      <td>19.947370</td>\n",
       "      <td>19.999798</td>\n",
       "      <td>20.293528</td>\n",
       "      <td>20.140320</td>\n",
       "    </tr>\n",
       "    <tr>\n",
       "      <th>75%</th>\n",
       "      <td>27.447524</td>\n",
       "      <td>28.246787</td>\n",
       "      <td>28.522705</td>\n",
       "      <td>28.167066</td>\n",
       "      <td>28.447994</td>\n",
       "      <td>28.833786</td>\n",
       "      <td>27.165384</td>\n",
       "      <td>27.484840</td>\n",
       "      <td>28.118585</td>\n",
       "      <td>28.075203</td>\n",
       "    </tr>\n",
       "    <tr>\n",
       "      <th>max</th>\n",
       "      <td>58.805833</td>\n",
       "      <td>52.976081</td>\n",
       "      <td>58.818565</td>\n",
       "      <td>57.953478</td>\n",
       "      <td>63.160386</td>\n",
       "      <td>68.383550</td>\n",
       "      <td>61.659418</td>\n",
       "      <td>53.538999</td>\n",
       "      <td>52.457741</td>\n",
       "      <td>54.278089</td>\n",
       "    </tr>\n",
       "  </tbody>\n",
       "</table>\n",
       "</div>"
      ],
      "text/plain": [
       "               C1          C2          C3          C4          C5          C6  \\\n",
       "count  500.000000  500.000000  500.000000  500.000000  500.000000  500.000000   \n",
       "mean    19.483522   20.526126   20.795463   19.830822   19.966503   21.357578   \n",
       "std     12.335198   11.628605   12.231484   11.886862   11.419686   11.657351   \n",
       "min    -23.604096  -19.317664  -13.852837  -18.492268  -14.829335  -26.297393   \n",
       "25%     10.769325   13.167645   12.920961   12.197403   12.409445   14.051357   \n",
       "50%     19.751316   20.304215   20.499023   19.934705   19.236623   21.403425   \n",
       "75%     27.447524   28.246787   28.522705   28.167066   28.447994   28.833786   \n",
       "max     58.805833   52.976081   58.818565   57.953478   63.160386   68.383550   \n",
       "\n",
       "               C7          C8          C9         C10  \n",
       "count  500.000000  500.000000  500.000000  500.000000  \n",
       "mean    19.955829   19.687476   19.659160   19.973759  \n",
       "std     11.500650   11.501253   12.668158   12.182259  \n",
       "min    -10.214214  -16.114489  -26.525327  -12.705910  \n",
       "25%     12.018763   11.624662   11.547831   11.355280  \n",
       "50%     19.947370   19.999798   20.293528   20.140320  \n",
       "75%     27.165384   27.484840   28.118585   28.075203  \n",
       "max     61.659418   53.538999   52.457741   54.278089  "
      ]
     },
     "execution_count": 7,
     "metadata": {},
     "output_type": "execute_result"
    }
   ],
   "source": [
    "df  = pd.DataFrame(dist.reshape(500,10), columns=[\"C%d\" % (i+1) for i in range(10)])\n",
    "df2 = R(\"\"\"df*2\"\"\", push=dict(df=df))\n",
    "df2.describe()"
   ]
  },
  {
   "cell_type": "markdown",
   "id": "603332c5-0cbc-491e-a469-b008f673e051",
   "metadata": {},
   "source": [
    "## Some additional stuff"
   ]
  },
  {
   "cell_type": "markdown",
   "id": "6a40ea19-76e7-424d-8d87-4eac7ef57923",
   "metadata": {},
   "source": [
    "### Dates"
   ]
  },
  {
   "cell_type": "code",
   "execution_count": 10,
   "id": "ce3a5e2d-36ed-45ea-8db4-4706c6470f76",
   "metadata": {},
   "outputs": [
    {
     "name": "stdout",
     "output_type": "stream",
     "text": [
      "[1] \"2021-09-27 14:14:03 CEST\"\n"
     ]
    }
   ],
   "source": [
    "from datetime import datetime\n",
    "R(\"\"\"print(today)\"\"\", push=dict(today=datetime.today()), get=False)"
   ]
  },
  {
   "cell_type": "markdown",
   "id": "dbfb217d-5553-4145-b692-595dabb11a57",
   "metadata": {},
   "source": [
    "### Dictionaries\n",
    "\n",
    "# Note that individual numbers do not exist in R (everything is a vector) so it is impossible to transform this back perfectly."
   ]
  },
  {
   "cell_type": "code",
   "execution_count": 11,
   "id": "ad373bfc-cb7e-445e-ac00-cb04de9ba9b3",
   "metadata": {},
   "outputs": [
    {
     "data": {
      "text/plain": [
       "{'A': [10], 'B': [20], 'C': [40], 'D': [60.0]}"
      ]
     },
     "execution_count": 11,
     "metadata": {},
     "output_type": "execute_result"
    }
   ],
   "source": [
    "R.push(mydict={\"A\":10, \"B\":20, \"C\":40})\n",
    "R(\"\"\"\n",
    "    mydict$D <- 60\n",
    "    mydict\"\"\")"
   ]
  }
 ],
 "metadata": {
  "kernelspec": {
   "display_name": "Python 3",
   "language": "python",
   "name": "python3"
  },
  "language_info": {
   "codemirror_mode": {
    "name": "ipython",
    "version": 3
   },
   "file_extension": ".py",
   "mimetype": "text/x-python",
   "name": "python",
   "nbconvert_exporter": "python",
   "pygments_lexer": "ipython3",
   "version": "3.8.10"
  }
 },
 "nbformat": 4,
 "nbformat_minor": 5
}
