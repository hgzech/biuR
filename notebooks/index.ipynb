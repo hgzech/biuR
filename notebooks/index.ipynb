{
 "cells": [
  {
   "cell_type": "code",
   "execution_count": null,
   "metadata": {},
   "outputs": [],
   "source": [
    "#hide\n",
    "#from biuR.wrapper import R"
   ]
  },
  {
   "cell_type": "markdown",
   "metadata": {},
   "source": [
    "# biuR\n",
    "\n",
    "> An extract of the BIU R functionality, without any dependency on [biu](https://github.com/thiesgehrmann/biuR)."
   ]
  },
  {
   "cell_type": "markdown",
   "metadata": {},
   "source": [
    "## Install"
   ]
  },
  {
   "cell_type": "markdown",
   "metadata": {},
   "source": [
    "`pip install biuR`"
   ]
  },
  {
   "cell_type": "markdown",
   "metadata": {},
   "source": [
    "## How to use"
   ]
  },
  {
   "cell_type": "code",
   "execution_count": null,
   "metadata": {},
   "outputs": [],
   "source": [
    "import biur\n",
    "import matplotlib.pylab as plt\n",
    "import pandas as pd"
   ]
  },
  {
   "cell_type": "code",
   "execution_count": null,
   "metadata": {},
   "outputs": [],
   "source": [
    "R = biur.wrapper.R()"
   ]
  },
  {
   "cell_type": "markdown",
   "metadata": {},
   "source": [
    "## Push some data"
   ]
  },
  {
   "cell_type": "code",
   "execution_count": null,
   "metadata": {},
   "outputs": [],
   "source": [
    "R.push(n=5000, mean=10, var=6, question=\"How many apples do you eat per day?\")"
   ]
  },
  {
   "cell_type": "markdown",
   "metadata": {},
   "source": [
    "## Run some commands"
   ]
  },
  {
   "cell_type": "code",
   "execution_count": null,
   "metadata": {},
   "outputs": [
    {
     "name": "stdout",
     "output_type": "stream",
     "text": [
      "[1] 10.06651\n"
     ]
    }
   ],
   "source": [
    "R(\"\"\"\n",
    "    dist <- rnorm(n, mean, var)\n",
    "    print(mean(dist))\n",
    "\"\"\", get=False)"
   ]
  },
  {
   "cell_type": "markdown",
   "metadata": {},
   "source": [
    "## Get some data"
   ]
  },
  {
   "cell_type": "code",
   "execution_count": null,
   "metadata": {},
   "outputs": [
    {
     "data": {
      "image/png": "[encoded data removed]",
      "text/plain": [
       "<Figure size 432x288 with 1 Axes>"
      ]
     },
     "metadata": {
      "needs_background": "light"
     },
     "output_type": "display_data"
    }
   ],
   "source": [
    "dist = R.get(\"dist\")\n",
    "dist_alt = R(\"dist\", get=True) # the get parameter is True by default\n",
    "_ = plt.hist(dist, bins=50)"
   ]
  },
  {
   "cell_type": "markdown",
   "metadata": {},
   "source": [
    "## Do it all at the same time"
   ]
  },
  {
   "cell_type": "code",
   "execution_count": null,
   "metadata": {},
   "outputs": [
    {
     "data": {
      "image/png": "[encoded data removed]",
      "text/plain": [
       "<Figure size 432x288 with 1 Axes>"
      ]
     },
     "metadata": {
      "needs_background": "light"
     },
     "output_type": "display_data"
    }
   ],
   "source": [
    "dist = R(\"\"\"rnorm(n, mean, var)\"\"\",\n",
    "         push=dict(n=5000, mean=10, var=6, question=\"How many apples do you eat per day?\"))\n",
    "_ = plt.hist(dist, bins=50)"
   ]
  },
  {
   "cell_type": "markdown",
   "metadata": {},
   "source": [
    "## Dataframes also work as expected"
   ]
  },
  {
   "cell_type": "code",
   "execution_count": null,
   "metadata": {},
   "outputs": [
    {
     "data": {
      "text/html": [
       "<div>\n",
       "<style scoped>\n",
       "    .dataframe tbody tr th:only-of-type {\n",
       "        vertical-align: middle;\n",
       "    }\n",
       "\n",
       "    .dataframe tbody tr th {\n",
       "        vertical-align: top;\n",
       "    }\n",
       "\n",
       "    .dataframe thead th {\n",
       "        text-align: right;\n",
       "    }\n",
       "</style>\n",
       "<table border=\"1\" class=\"dataframe\">\n",
       "  <thead>\n",
       "    <tr style=\"text-align: right;\">\n",
       "      <th></th>\n",
       "      <th>C1</th>\n",
       "      <th>C2</th>\n",
       "      <th>C3</th>\n",
       "      <th>C4</th>\n",
       "      <th>C5</th>\n",
       "      <th>C6</th>\n",
       "      <th>C7</th>\n",
       "      <th>C8</th>\n",
       "      <th>C9</th>\n",
       "      <th>C10</th>\n",
       "    </tr>\n",
       "  </thead>\n",
       "  <tbody>\n",
       "    <tr>\n",
       "      <th>count</th>\n",
       "      <td>500.000000</td>\n",
       "      <td>500.000000</td>\n",
       "      <td>500.000000</td>\n",
       "      <td>500.000000</td>\n",
       "      <td>500.000000</td>\n",
       "      <td>500.000000</td>\n",
       "      <td>500.000000</td>\n",
       "      <td>500.000000</td>\n",
       "      <td>500.000000</td>\n",
       "      <td>500.000000</td>\n",
       "    </tr>\n",
       "    <tr>\n",
       "      <th>mean</th>\n",
       "      <td>19.664014</td>\n",
       "      <td>19.844730</td>\n",
       "      <td>21.397676</td>\n",
       "      <td>20.316715</td>\n",
       "      <td>19.915327</td>\n",
       "      <td>20.479617</td>\n",
       "      <td>20.606811</td>\n",
       "      <td>20.671680</td>\n",
       "      <td>19.978792</td>\n",
       "      <td>20.363389</td>\n",
       "    </tr>\n",
       "    <tr>\n",
       "      <th>std</th>\n",
       "      <td>12.082482</td>\n",
       "      <td>11.829318</td>\n",
       "      <td>11.756079</td>\n",
       "      <td>12.228085</td>\n",
       "      <td>11.878440</td>\n",
       "      <td>12.626452</td>\n",
       "      <td>11.560421</td>\n",
       "      <td>12.360558</td>\n",
       "      <td>12.425381</td>\n",
       "      <td>12.545196</td>\n",
       "    </tr>\n",
       "    <tr>\n",
       "      <th>min</th>\n",
       "      <td>-28.185781</td>\n",
       "      <td>-11.851668</td>\n",
       "      <td>-14.899577</td>\n",
       "      <td>-15.940758</td>\n",
       "      <td>-23.651277</td>\n",
       "      <td>-17.811376</td>\n",
       "      <td>-13.721199</td>\n",
       "      <td>-17.615716</td>\n",
       "      <td>-18.421257</td>\n",
       "      <td>-22.172515</td>\n",
       "    </tr>\n",
       "    <tr>\n",
       "      <th>25%</th>\n",
       "      <td>11.909300</td>\n",
       "      <td>12.042162</td>\n",
       "      <td>13.257103</td>\n",
       "      <td>12.162031</td>\n",
       "      <td>12.214617</td>\n",
       "      <td>11.778717</td>\n",
       "      <td>12.920449</td>\n",
       "      <td>12.178726</td>\n",
       "      <td>11.741882</td>\n",
       "      <td>12.254866</td>\n",
       "    </tr>\n",
       "    <tr>\n",
       "      <th>50%</th>\n",
       "      <td>19.316743</td>\n",
       "      <td>19.564965</td>\n",
       "      <td>20.988669</td>\n",
       "      <td>20.498992</td>\n",
       "      <td>19.765990</td>\n",
       "      <td>20.166144</td>\n",
       "      <td>20.278277</td>\n",
       "      <td>20.020587</td>\n",
       "      <td>20.054040</td>\n",
       "      <td>20.275403</td>\n",
       "    </tr>\n",
       "    <tr>\n",
       "      <th>75%</th>\n",
       "      <td>27.771991</td>\n",
       "      <td>28.085157</td>\n",
       "      <td>29.174137</td>\n",
       "      <td>28.447980</td>\n",
       "      <td>28.061103</td>\n",
       "      <td>28.312460</td>\n",
       "      <td>28.384447</td>\n",
       "      <td>28.869581</td>\n",
       "      <td>28.670938</td>\n",
       "      <td>29.319559</td>\n",
       "    </tr>\n",
       "    <tr>\n",
       "      <th>max</th>\n",
       "      <td>53.658666</td>\n",
       "      <td>59.740534</td>\n",
       "      <td>58.531887</td>\n",
       "      <td>57.402270</td>\n",
       "      <td>55.351012</td>\n",
       "      <td>52.867132</td>\n",
       "      <td>56.286094</td>\n",
       "      <td>55.596513</td>\n",
       "      <td>50.953409</td>\n",
       "      <td>58.989365</td>\n",
       "    </tr>\n",
       "  </tbody>\n",
       "</table>\n",
       "</div>"
      ],
      "text/plain": [
       "               C1          C2          C3          C4          C5          C6  \\\n",
       "count  500.000000  500.000000  500.000000  500.000000  500.000000  500.000000   \n",
       "mean    19.664014   19.844730   21.397676   20.316715   19.915327   20.479617   \n",
       "std     12.082482   11.829318   11.756079   12.228085   11.878440   12.626452   \n",
       "min    -28.185781  -11.851668  -14.899577  -15.940758  -23.651277  -17.811376   \n",
       "25%     11.909300   12.042162   13.257103   12.162031   12.214617   11.778717   \n",
       "50%     19.316743   19.564965   20.988669   20.498992   19.765990   20.166144   \n",
       "75%     27.771991   28.085157   29.174137   28.447980   28.061103   28.312460   \n",
       "max     53.658666   59.740534   58.531887   57.402270   55.351012   52.867132   \n",
       "\n",
       "               C7          C8          C9         C10  \n",
       "count  500.000000  500.000000  500.000000  500.000000  \n",
       "mean    20.606811   20.671680   19.978792   20.363389  \n",
       "std     11.560421   12.360558   12.425381   12.545196  \n",
       "min    -13.721199  -17.615716  -18.421257  -22.172515  \n",
       "25%     12.920449   12.178726   11.741882   12.254866  \n",
       "50%     20.278277   20.020587   20.054040   20.275403  \n",
       "75%     28.384447   28.869581   28.670938   29.319559  \n",
       "max     56.286094   55.596513   50.953409   58.989365  "
      ]
     },
     "execution_count": null,
     "metadata": {},
     "output_type": "execute_result"
    }
   ],
   "source": [
    "df  = pd.DataFrame(dist.reshape(500,10), columns=[\"C%d\" % (i+1) for i in range(10)])\n",
    "df2 = R(\"\"\"df*2\"\"\", push=dict(df=df))\n",
    "df2.describe()"
   ]
  },
  {
   "cell_type": "markdown",
   "metadata": {},
   "source": [
    "## Some additional stuff"
   ]
  },
  {
   "cell_type": "markdown",
   "metadata": {},
   "source": [
    "### Dates"
   ]
  },
  {
   "cell_type": "code",
   "execution_count": null,
   "metadata": {},
   "outputs": [
    {
     "name": "stdout",
     "output_type": "stream",
     "text": [
      "[1] \"2021-11-15 14:59:14 EET\"\n"
     ]
    }
   ],
   "source": [
    "from datetime import datetime\n",
    "R(\"\"\"print(today)\"\"\", push=dict(today=datetime.today()), get=False)"
   ]
  },
  {
   "cell_type": "markdown",
   "metadata": {},
   "source": [
    "### Dictionaries\n",
    "\n",
    "> Note that individual numbers do not exist in R (everything is a vector) so it is impossible to transform this back perfectly."
   ]
  },
  {
   "cell_type": "code",
   "execution_count": null,
   "metadata": {},
   "outputs": [
    {
     "data": {
      "text/plain": [
       "{'A': [10], 'B': [20], 'C': [40], 'D': [60.0]}"
      ]
     },
     "execution_count": null,
     "metadata": {},
     "output_type": "execute_result"
    }
   ],
   "source": [
    "R.push(mydict={\"A\":10, \"B\":20, \"C\":40})\n",
    "R(\"\"\"\n",
    "    mydict$D <- 60\n",
    "    mydict\"\"\")"
   ]
  }
 ],
 "metadata": {
  "kernelspec": {
   "display_name": "Python 3 (ipykernel)",
   "language": "python",
   "name": "python3"
  }
 },
 "nbformat": 4,
 "nbformat_minor": 4
}
